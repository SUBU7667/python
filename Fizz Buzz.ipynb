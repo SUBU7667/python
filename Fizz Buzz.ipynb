{
 "cells": [
  {
   "cell_type": "code",
   "execution_count": null,
   "id": "90aa2315",
   "metadata": {},
   "outputs": [],
   "source": [
    "# loop and condition: FIZZBUZZ 01\n",
    "def fizzbuzz(r):\n",
    "    for i in range(1,r):\n",
    "        if(i%3==0 and i%5==0):\n",
    "                    print(i,\"= fizzBuzz\")\n",
    "        else:\n",
    "            if(i%5==0):\n",
    "                print(str(i),\"= Buzz\")\n",
    "            else:\n",
    "                if(i%3==0):\n",
    "                    print(str(i),\"= Fizz\")\n",
    "                else:\n",
    "                    print(str(i))\n",
    "fizzbuzz(31)\n"
   ]
  }
 ],
 "metadata": {
  "kernelspec": {
   "display_name": "Python 3 (ipykernel)",
   "language": "python",
   "name": "python3"
  },
  "language_info": {
   "codemirror_mode": {
    "name": "ipython",
    "version": 3
   },
   "file_extension": ".py",
   "mimetype": "text/x-python",
   "name": "python",
   "nbconvert_exporter": "python",
   "pygments_lexer": "ipython3",
   "version": "3.9.12"
  }
 },
 "nbformat": 4,
 "nbformat_minor": 5
}
